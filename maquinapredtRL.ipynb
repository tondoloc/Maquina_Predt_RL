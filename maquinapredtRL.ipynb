{
 "metadata": {
  "language_info": {
   "codemirror_mode": {
    "name": "ipython",
    "version": 3
   },
   "file_extension": ".py",
   "mimetype": "text/x-python",
   "name": "python",
   "nbconvert_exporter": "python",
   "pygments_lexer": "ipython3",
   "version": "3.8.3-final"
  },
  "orig_nbformat": 2,
  "kernelspec": {
   "name": "python3",
   "display_name": "Python 3.8.3 64-bit ('base': conda)",
   "metadata": {
    "interpreter": {
     "hash": "414ba1009b4dc655b789c24cddffafde0f6e5553746ea2401228b28bf0a88eb9"
    }
   }
  }
 },
 "nbformat": 4,
 "nbformat_minor": 2,
 "cells": [
  {
   "source": [
    "Importando pacotes"
   ],
   "cell_type": "markdown",
   "metadata": {}
  },
  {
   "cell_type": "code",
   "execution_count": null,
   "metadata": {},
   "outputs": [],
   "source": [
    "#importação de Pacotes\n",
    "import numpy as np                                  # Matrizes\n",
    "import matplotlib.pyplot as plt                     # Gráficos\n",
    "from sklearn.linear_model import LinearRegression   # Máquina Preditiva"
   ]
  },
  {
   "source": [
    "A ideia é eliminar complicações tomando uma amostra muito pequena, em vez de usar dados de um grande banco de dados. Ajuda a ver claramente o resultado nos gráficos e a entender o conceito de maneira muito mais didática e eficaz."
   ],
   "cell_type": "markdown",
   "metadata": {}
  },
  {
   "source": [
    "O exemplo consiste em: o número de horas investidas no estudo e as notas obtidas no exame. Aqui, as notas obtidas dependem do número de horas que um aluno investe no estudo, portanto, as notas obtidas são a variável dependente y e o número de horas é a variável independente x.\n",
    "\n",
    "O objetivo é desenvolver uma Máquina Preditiva que nos ajude a prever as notas obtidas para um novo número de horas.\n",
    "\n",
    "Vamos fazer isso usando Regressão Linear."
   ],
   "cell_type": "markdown",
   "metadata": {}
  },
  {
   "source": [
    "Criando os dados\n",
    "\n",
    "##### **Obs**: a função **reshape(-1,1)** é para remodelar os xpoints **para ter 1 coluna e muitas linhas**. O preditor (x) **precisa ser uma matriz de matrizes e a resposta (y) pode ser uma matriz simples.**"
   ],
   "cell_type": "markdown",
   "metadata": {}
  },
  {
   "cell_type": "code",
   "execution_count": null,
   "metadata": {},
   "outputs": [],
   "source": [
    "#Criar os dados da Variável independente (explicativa)\n",
    "xpoints = np.array([10, 11, 12, 13, 14, 15]).reshape(-1,1)"
   ]
  },
  {
   "source": [
    "Criando os dados dependentes"
   ],
   "cell_type": "markdown",
   "metadata": {}
  },
  {
   "cell_type": "code",
   "execution_count": null,
   "metadata": {},
   "outputs": [],
   "source": [
    "#Criar os dados da Variável Dependente ( Variável a ser predita)\n",
    "ypoints = np.array([53, 52, 60, 63, 72, 70])"
   ]
  },
  {
   "source": [
    "A Máquina Preditiva é criada com o algoritmo LinearRegression. Esse algoritmo pode receber Hiper-parâmetros opcionais. Eles não são necessários para este exemplo, portanto, vamos ignorá-los.\n",
    "\n",
    "Como o nome sugere, o método .fit() é para treinar e estimar os parâmetros do modelo, o que significa que ele calcula o valor otimizado de m e b usando os dados fornecidos."
   ],
   "cell_type": "markdown",
   "metadata": {}
  },
  {
   "source": [
    "Criando a máquina preditiva"
   ],
   "cell_type": "markdown",
   "metadata": {}
  },
  {
   "cell_type": "code",
   "execution_count": null,
   "metadata": {},
   "outputs": [],
   "source": [
    "#Criando a Máquina Preditiva - Escolher o Algoritmo\n",
    "maquina_preditiva = LinearRegression()"
   ]
  },
  {
   "source": [
    "Treinando a máquina a partir dos dados criados"
   ],
   "cell_type": "markdown",
   "metadata": {}
  },
  {
   "cell_type": "code",
   "execution_count": null,
   "metadata": {},
   "outputs": [],
   "source": [
    "# Treinando a Máquina Preditiva - Passando os dados \n",
    "maquina_preditiva.fit(xpoints, ypoints)"
   ]
  },
  {
   "source": [
    "Após o Treinamento a gente faz as Previsões com a função \"Predict\"\n",
    "\n",
    "O método .predict () é usado para obter a resposta prevista usando o modelo e leva o preditor xpoints como argumento."
   ],
   "cell_type": "markdown",
   "metadata": {}
  },
  {
   "cell_type": "code",
   "execution_count": null,
   "metadata": {},
   "outputs": [],
   "source": [
    "#Novas Previsões => y_pred\n",
    "y_pred = maquina_preditiva.predict(xpoints)"
   ]
  },
  {
   "source": [
    "Após, imprima y_pred e observe que os valores estão bem próximos de ypoints . Se as respostas previstas e reais tiverem valores próximos, isso significa que o modelo é preciso. Em um caso ideal, os valores de resposta previstos e reais se sobreporiam."
   ],
   "cell_type": "markdown",
   "metadata": {}
  },
  {
   "cell_type": "code",
   "execution_count": null,
   "metadata": {},
   "outputs": [],
   "source": [
    "#Análise Gráfica dos Resultados com Matplotlib\n",
    "plt.scatter(xpoints, ypoints)\n",
    "plt.plot(xpoints, y_pred)\n",
    "plt.xlabel('x-points-ou horas de estudo')\n",
    "plt.ylabel('y-points”ou nota na Prova')\n",
    "plt.show()"
   ]
  },
  {
   "source": [
    "#### Traçamos os gráficos usando a **função \".scatter()\"** que leva xpoints e ypoints como argumentos. "
   ],
   "cell_type": "markdown",
   "metadata": {}
  },
  {
   "cell_type": "code",
   "execution_count": null,
   "metadata": {},
   "outputs": [],
   "source": [
    "#Obtem o coeficiente da variável x (ou a inclinação, também chamada de slope....tudo a mesma coisa...), que nesse caso é o \"m\" da equação\n",
    "print(maquina_preditiva.coef_)"
   ]
  },
  {
   "cell_type": "code",
   "execution_count": null,
   "metadata": {},
   "outputs": [],
   "source": [
    "#Obtem o valor do intercept ou o valor \"b\" da equação\n",
    "print(maquina_preditiva.intercept_)"
   ]
  },
  {
   "source": [
    "Agora novas previsões com sua máquina. Tente prever a nota do aluno \"y_new\" para um novo valor de horas de estudo (novo valor da variável 'x' ...) x_new = 16.\n",
    "\n",
    "####**Fazendo novas previsões com sua 1° Máquina Preditiva**"
   ],
   "cell_type": "markdown",
   "metadata": {}
  },
  {
   "cell_type": "code",
   "execution_count": null,
   "metadata": {},
   "outputs": [],
   "source": [
    "# Você vai estimar a nota do aluno com base no seu tempo de estudo de 16 horas\n",
    "# Obs: Antes, vc precisa entregar os dados no formato de Matriz (array)\n",
    "x_new = np.array([16]).reshape(-1,1)\n",
    "\n",
    "# Prevendo a nota com sua Máquina\n",
    "y_new = maquina_preditiva.predict(x_new)\n",
    "print('A nota estimada é de ==>', y_new)"
   ]
  },
  {
   "source": [
    "Como podemos avaliar o desempenho da Máquina Preditiva?\n",
    "\n",
    "Podemos usar o método .score() que usa as amostras x e y como seus 2 argumentos para encontrar R2 ou o coeficiente de determinação (Uma das várias Métricas de avaliação das Máquinas).\n",
    "\n",
    "O melhor valor para R2 um valor mais próximo de R2 igual a 1,0 indica a eficiência da nossa Máquina Preditiva."
   ],
   "cell_type": "markdown",
   "metadata": {}
  },
  {
   "cell_type": "code",
   "execution_count": null,
   "metadata": {},
   "outputs": [],
   "source": [
    "maquina_preditiva.score(xpoints, ypoints)"
   ]
  },
  {
   "source": [
    "###**O valor de R2 é 0,89. Portanto, a previsão do modelo é confiável.**"
   ],
   "cell_type": "markdown",
   "metadata": {}
  }
 ]
}